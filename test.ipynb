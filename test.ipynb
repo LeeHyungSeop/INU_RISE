{
 "cells": [
  {
   "cell_type": "code",
   "execution_count": 5,
   "metadata": {},
   "outputs": [],
   "source": [
    "import torch\n",
    "import sys\n",
    "import torch.nn.functional as F"
   ]
  },
  {
   "cell_type": "markdown",
   "metadata": {},
   "source": []
  },
  {
   "cell_type": "code",
   "execution_count": 2,
   "metadata": {},
   "outputs": [
    {
     "name": "stdout",
     "output_type": "stream",
     "text": [
      "3.10.13 | packaged by conda-forge | (main, Oct 26 2023, 18:07:37) [GCC 12.3.0]\n",
      "2.1.1\n",
      "12.1\n"
     ]
    }
   ],
   "source": [
    "print(sys.version)\n",
    "print(torch.__version__)\n",
    "print(torch.version.cuda)"
   ]
  },
  {
   "cell_type": "code",
   "execution_count": 4,
   "metadata": {},
   "outputs": [
    {
     "name": "stdout",
     "output_type": "stream",
     "text": [
      "1\n"
     ]
    }
   ],
   "source": [
    "# #GPUs, name\n",
    "print(torch.cuda.device_count())"
   ]
  },
  {
   "cell_type": "code",
   "execution_count": 18,
   "metadata": {},
   "outputs": [
    {
     "name": "stdout",
     "output_type": "stream",
     "text": [
      "x.shape : torch.Size([8, 500])\n",
      "y.shape : torch.Size([8, 500])\n",
      "log_sfmax_x.shape : torch.Size([8, 500])\n",
      "sfmax_y.shape : torch.Size([8, 500])\n",
      "loss_kd : 0.9911841154098511\n"
     ]
    }
   ],
   "source": [
    "# (batchsize, 500)'s tensor\n",
    "x = torch.randn(8, 500)\n",
    "y = torch.randn(8, 500)\n",
    "print(f\"x.shape : {x.shape}\")\n",
    "print(f\"y.shape : {y.shape}\")\n",
    "\n",
    "log_sfmax_x = F.log_softmax(x, dim=1)\n",
    "sfmax_y = F.softmax(y, dim=1)\n",
    "print(f\"log_sfmax_x.shape : {log_sfmax_x.shape}\")\n",
    "print(f\"sfmax_y.shape : {sfmax_y.shape}\")\n",
    "\n",
    "criterion_kd = torch.nn.KLDivLoss(reduction='batchmean')\n",
    "loss_kd = criterion_kd(log_sfmax_x, sfmax_y)\n",
    "print(f\"loss_kd : {loss_kd}\")"
   ]
  },
  {
   "cell_type": "code",
   "execution_count": 45,
   "metadata": {},
   "outputs": [
    {
     "name": "stdout",
     "output_type": "stream",
     "text": [
      "x.shape : torch.Size([8, 190323, 4])\n",
      "y.shape : torch.Size([8, 190323, 4])\n",
      "log_sfmax_x.shape : torch.Size([8, 190323, 4])\n",
      "sfmax_y.shape : torch.Size([8, 190323, 4])\n",
      "loss_kd : 3.9944119453430176\n"
     ]
    }
   ],
   "source": [
    "# (batchsize, anchor, 4)'s tensor\n",
    "x = torch.randn(8, 190323, 4)\n",
    "y = torch.randn(8, 190323, 4)\n",
    "print(f\"x.shape : {x.shape}\")\n",
    "print(f\"y.shape : {y.shape}\")\n",
    "\n",
    "log_sfmax_x = F.log_softmax(x, dim=1)\n",
    "sfmax_y = F.softmax(y, dim=1)\n",
    "print(f\"log_sfmax_x.shape : {log_sfmax_x.shape}\")\n",
    "print(f\"sfmax_y.shape : {sfmax_y.shape}\")\n",
    "\n",
    "criterion_kd = torch.nn.KLDivLoss(reduction='batchmean')\n",
    "loss_kd = criterion_kd(log_sfmax_x, sfmax_y)\n",
    "print(f\"loss_kd : {loss_kd}\")\n"
   ]
  },
  {
   "cell_type": "code",
   "execution_count": null,
   "metadata": {},
   "outputs": [],
   "source": []
  },
  {
   "cell_type": "code",
   "execution_count": null,
   "metadata": {},
   "outputs": [],
   "source": []
  }
 ],
 "metadata": {
  "kernelspec": {
   "display_name": "Python 3",
   "language": "python",
   "name": "python3"
  },
  "language_info": {
   "codemirror_mode": {
    "name": "ipython",
    "version": 3
   },
   "file_extension": ".py",
   "mimetype": "text/x-python",
   "name": "python",
   "nbconvert_exporter": "python",
   "pygments_lexer": "ipython3",
   "version": "3.10.13"
  }
 },
 "nbformat": 4,
 "nbformat_minor": 2
}
